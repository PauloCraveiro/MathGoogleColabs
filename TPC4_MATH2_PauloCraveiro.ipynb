{
  "nbformat": 4,
  "nbformat_minor": 0,
  "metadata": {
    "kernelspec": {
      "display_name": "Python 3",
      "language": "python",
      "name": "python3"
    },
    "language_info": {
      "codemirror_mode": {
        "name": "ipython",
        "version": 3
      },
      "file_extension": ".py",
      "mimetype": "text/x-python",
      "name": "python",
      "nbconvert_exporter": "python",
      "pygments_lexer": "ipython3",
      "version": "3.7.4"
    },
    "colab": {
      "name": "TPC4-MATH2-PauloCraveiro.ipynb",
      "provenance": [],
      "collapsed_sections": []
    }
  },
  "cells": [
    {
      "cell_type": "code",
      "metadata": {
        "id": "cUiiVZeKq_QF"
      },
      "source": [
        "from sympy import *\n",
        "import matplotlib.pyplot as plt \n",
        "import numpy as np \n",
        "#from math import*\n",
        "init_printing()"
      ],
      "execution_count": 3,
      "outputs": []
    },
    {
      "cell_type": "code",
      "metadata": {
        "id": "KYmb1BOCq_QH"
      },
      "source": [
        "x,t,a,b,n, i, k = symbols('x t a b n i k')"
      ],
      "execution_count": 4,
      "outputs": []
    },
    {
      "cell_type": "markdown",
      "metadata": {
        "id": "z1gA6fwiuqzE"
      },
      "source": [
        "# Exercício 1 \n",
        "\n",
        "### Sabendo que :\n",
        "\n",
        "#$$\\varphi(x) = \\int_2^x 3t^2 ~dt $$"
      ]
    },
    {
      "cell_type": "markdown",
      "metadata": {
        "id": "L5Uvxeotq_QH"
      },
      "source": [
        "### Calcule os valores de :\n",
        "# $$\\varphi(x) ~e ~de ~\\varphi'(x)$$"
      ]
    },
    {
      "cell_type": "code",
      "metadata": {
        "colab": {
          "base_uri": "https://localhost:8080/",
          "height": 77
        },
        "id": "VJQPd4PTq_QI",
        "outputId": "ca9ebdcb-dfda-4d62-cf08-40e125e1c9a9"
      },
      "source": [
        "Integral(3*t**2,(t,2,x)) "
      ],
      "execution_count": 5,
      "outputs": [
        {
          "output_type": "execute_result",
          "data": {
            "image/png": "[encoded data removed]",
            "text/latex": "$\\displaystyle \\int\\limits_{2}^{x} 3 t^{2}\\, dt$",
            "text/plain": [
              "x        \n",
              "⌠        \n",
              "⎮    2   \n",
              "⎮ 3⋅t  dt\n",
              "⌡        \n",
              "2        "
            ]
          },
          "metadata": {
            "tags": []
          },
          "execution_count": 5
        }
      ]
    },
    {
      "cell_type": "code",
      "metadata": {
        "colab": {
          "base_uri": "https://localhost:8080/",
          "height": 38
        },
        "id": "0JrFP4VUv-5Z",
        "outputId": "08f2a573-e736-42db-c615-c6cf8ba321f0"
      },
      "source": [
        "Integral(3*t**2,(t,2,x)).doit() "
      ],
      "execution_count": 16,
      "outputs": [
        {
          "output_type": "execute_result",
          "data": {
            "image/png": "[encoded data removed]",
            "text/latex": "$\\displaystyle x^{3} - 8$",
            "text/plain": [
              " 3    \n",
              "x  - 8"
            ]
          },
          "metadata": {
            "tags": []
          },
          "execution_count": 16
        }
      ]
    },
    {
      "cell_type": "code",
      "metadata": {
        "colab": {
          "base_uri": "https://localhost:8080/"
        },
        "id": "muurOFPfq_QJ",
        "outputId": "2094954e-d093-4c0e-886d-100c55661a1a"
      },
      "source": [
        "## Código Equivalente para fazer o print em Python\n",
        "phi=Integral(3*t**2,(t,2,x)).doit() \n",
        "print(phi)"
      ],
      "execution_count": 11,
      "outputs": [
        {
          "output_type": "stream",
          "text": [
            "x**3 - 8\n"
          ],
          "name": "stdout"
        }
      ]
    },
    {
      "cell_type": "code",
      "metadata": {
        "colab": {
          "base_uri": "https://localhost:8080/",
          "height": 52
        },
        "id": "1iTuS3m-q_QJ",
        "outputId": "3cdecdb1-cd41-4e95-a50e-e97607c607c9"
      },
      "source": [
        "Derivative(phi,x)"
      ],
      "execution_count": 12,
      "outputs": [
        {
          "output_type": "execute_result",
          "data": {
            "image/png": "[encoded data removed]",
            "text/latex": "$\\displaystyle \\frac{d}{d x} \\left(x^{3} - 8\\right)$",
            "text/plain": [
              "d ⎛ 3    ⎞\n",
              "──⎝x  - 8⎠\n",
              "dx        "
            ]
          },
          "metadata": {
            "tags": []
          },
          "execution_count": 12
        }
      ]
    },
    {
      "cell_type": "code",
      "metadata": {
        "colab": {
          "base_uri": "https://localhost:8080/",
          "height": 38
        },
        "id": "GhTO74g5vc8B",
        "outputId": "b4f9f6a8-589d-40de-be50-11d29509b1f2"
      },
      "source": [
        "Derivative(phi,x).doit()"
      ],
      "execution_count": 15,
      "outputs": [
        {
          "output_type": "execute_result",
          "data": {
            "image/png": "[encoded data removed]",
            "text/latex": "$\\displaystyle 3 x^{2}$",
            "text/plain": [
              "   2\n",
              "3⋅x "
            ]
          },
          "metadata": {
            "tags": []
          },
          "execution_count": 15
        }
      ]
    },
    {
      "cell_type": "code",
      "metadata": {
        "colab": {
          "base_uri": "https://localhost:8080/"
        },
        "id": "HmPpzxXeq_QK",
        "outputId": "82f404b2-ea52-42d8-b5a4-7f47cf631599"
      },
      "source": [
        "## Código Equivalente para fazer o print em Python\n",
        "Derivada_de_phi=Derivative(phi,x).doit()\n",
        "print(Derivada_de_phi)"
      ],
      "execution_count": 8,
      "outputs": [
        {
          "output_type": "stream",
          "text": [
            "3*x**2\n"
          ],
          "name": "stdout"
        }
      ]
    },
    {
      "cell_type": "markdown",
      "metadata": {
        "id": "qIczIQoTq_QK"
      },
      "source": [
        "# Exercício 2 \n",
        "### Determine o valor de : "
      ]
    },
    {
      "cell_type": "markdown",
      "metadata": {
        "id": "2RoNwzest1kh"
      },
      "source": [
        "# A) $$\\int_1^2 \\frac{4x^2+3x+5}{x^3 + 2x^2 + \n",
        "5x} ~dx $$"
      ]
    },
    {
      "cell_type": "code",
      "metadata": {
        "scrolled": true,
        "colab": {
          "base_uri": "https://localhost:8080/",
          "height": 80
        },
        "id": "7zeIXFF6q_QL",
        "outputId": "9ff70453-3e61-4746-c84a-a84e56611b30"
      },
      "source": [
        "Integral((4*x**2+3*x+5)/(x**3+2*x**2+5*x),(x,1,2))"
      ],
      "execution_count": 17,
      "outputs": [
        {
          "output_type": "execute_result",
          "data": {
            "image/png": "[encoded data removed]",
            "text/latex": "$\\displaystyle \\int\\limits_{1}^{2} \\frac{4 x^{2} + 3 x + 5}{x^{3} + 2 x^{2} + 5 x}\\, dx$",
            "text/plain": [
              "2                   \n",
              "⌠                   \n",
              "⎮     2             \n",
              "⎮  4⋅x  + 3⋅x + 5   \n",
              "⎮ ─────────────── dx\n",
              "⎮  3      2         \n",
              "⎮ x  + 2⋅x  + 5⋅x   \n",
              "⌡                   \n",
              "1                   "
            ]
          },
          "metadata": {
            "tags": []
          },
          "execution_count": 17
        }
      ]
    },
    {
      "cell_type": "code",
      "metadata": {
        "colab": {
          "base_uri": "https://localhost:8080/",
          "height": 58
        },
        "id": "DvcBJsuvq_QM",
        "outputId": "71937d9d-f338-4090-adee-e95b13080c51"
      },
      "source": [
        "integrate((4*x**2+3*x+5)/(x**3+2*x**2+5*x),(x,1,2)) "
      ],
      "execution_count": 18,
      "outputs": [
        {
          "output_type": "execute_result",
          "data": {
            "image/png": "[encoded data removed]",
            "text/latex": "$\\displaystyle - \\frac{3 \\log{\\left(8 \\right)}}{2} - \\operatorname{atan}{\\left(\\frac{3}{2} \\right)} + \\log{\\left(2 \\right)} + \\frac{\\pi}{4} + \\frac{3 \\log{\\left(13 \\right)}}{2}$",
            "text/plain": [
              "  3⋅log(8)                        π   3⋅log(13)\n",
              "- ──────── - atan(3/2) + log(2) + ─ + ─────────\n",
              "     2                            4       2    "
            ]
          },
          "metadata": {
            "tags": []
          },
          "execution_count": 18
        }
      ]
    },
    {
      "cell_type": "markdown",
      "metadata": {
        "id": "iiBd1kG8q_QM"
      },
      "source": [
        "# B) $$\\int_5^8 \\frac{x}{\\sqrt{1+3x}} ~dx $$"
      ]
    },
    {
      "cell_type": "code",
      "metadata": {
        "colab": {
          "base_uri": "https://localhost:8080/",
          "height": 80
        },
        "id": "BRyc9mIgq_QN",
        "outputId": "655b669a-577d-40fc-bc1a-4c13ab7c2b9c"
      },
      "source": [
        "Integral(x/sqrt(1+3*x),(x,5,8)) "
      ],
      "execution_count": 19,
      "outputs": [
        {
          "output_type": "execute_result",
          "data": {
            "image/png": "[encoded data removed]",
            "text/latex": "$\\displaystyle \\int\\limits_{5}^{8} \\frac{x}{\\sqrt{3 x + 1}}\\, dx$",
            "text/plain": [
              "8               \n",
              "⌠               \n",
              "⎮      x        \n",
              "⎮ ─────────── dx\n",
              "⎮   _________   \n",
              "⎮ ╲╱ 3⋅x + 1    \n",
              "⌡               \n",
              "5               "
            ]
          },
          "metadata": {
            "tags": []
          },
          "execution_count": 19
        }
      ]
    },
    {
      "cell_type": "code",
      "metadata": {
        "colab": {
          "base_uri": "https://localhost:8080/",
          "height": 51
        },
        "id": "xnsth1vlq_QN",
        "outputId": "a92f17ab-1228-4b41-a00e-67aea5d7a85a"
      },
      "source": [
        "integrate(x/sqrt(1+3*x),(x,5,8)) "
      ],
      "execution_count": 20,
      "outputs": [
        {
          "output_type": "execute_result",
          "data": {
            "image/png": "[encoded data removed]",
            "text/latex": "$\\displaystyle \\frac{116}{27}$",
            "text/plain": [
              "116\n",
              "───\n",
              " 27"
            ]
          },
          "metadata": {
            "tags": []
          },
          "execution_count": 20
        }
      ]
    },
    {
      "cell_type": "markdown",
      "metadata": {
        "id": "lxbCBA7Mq_QO"
      },
      "source": [
        "# Exercício 3 \n",
        "### Determine a área da figura delimitada ...\n"
      ]
    },
    {
      "cell_type": "markdown",
      "metadata": {
        "id": "8CC9s6lvwgzL"
      },
      "source": [
        "# A) ... pela parábola $$y=x-x^2$$ e o eixo das abcissas."
      ]
    },
    {
      "cell_type": "code",
      "metadata": {
        "colab": {
          "base_uri": "https://localhost:8080/",
          "height": 38
        },
        "id": "du_Y-SWHq_QO",
        "outputId": "3a47bfc0-eb0c-4a0c-9df6-424a623aea75"
      },
      "source": [
        "eq1= Eq(x-x**2,0)\n",
        "eq1"
      ],
      "execution_count": 21,
      "outputs": [
        {
          "output_type": "execute_result",
          "data": {
            "image/png": "[encoded data removed]",
            "text/latex": "$\\displaystyle - x^{2} + x = 0$",
            "text/plain": [
              "   2        \n",
              "- x  + x = 0"
            ]
          },
          "metadata": {
            "tags": []
          },
          "execution_count": 21
        }
      ]
    },
    {
      "cell_type": "code",
      "metadata": {
        "colab": {
          "base_uri": "https://localhost:8080/",
          "height": 37
        },
        "id": "_HD-gcHUq_QO",
        "outputId": "de622669-da52-44ea-8da8-79fde877ac15"
      },
      "source": [
        "solve(eq1)"
      ],
      "execution_count": 22,
      "outputs": [
        {
          "output_type": "execute_result",
          "data": {
            "image/png": "[encoded data removed]",
            "text/latex": "$\\displaystyle \\left[ 0, \\  1\\right]$",
            "text/plain": [
              "[0, 1]"
            ]
          },
          "metadata": {
            "tags": []
          },
          "execution_count": 22
        }
      ]
    },
    {
      "cell_type": "code",
      "metadata": {
        "colab": {
          "base_uri": "https://localhost:8080/",
          "height": 313
        },
        "id": "rplTxG-Eq_QQ",
        "outputId": "8ea1f46f-c654-4d6a-deb3-4cfdeddb0297"
      },
      "source": [
        "x=np.linspace(-0.5,1.5,1000) \n",
        "f1=x-x**2\n",
        "plt.grid()\n",
        "plt.axhline(0, color='black')\n",
        "plt.axvline(0, color='black')\n",
        "plt.xlabel('X') # Perceba o uso de \"set_\" para começar métodos\n",
        "plt.ylabel('x-x^2')\n",
        "plt.title('Equação')\n",
        "plt.plot(x,f1)"
      ],
      "execution_count": 23,
      "outputs": [
        {
          "output_type": "execute_result",
          "data": {
            "text/plain": [
              "[<matplotlib.lines.Line2D at 0x7f62e7c7e410>]"
            ]
          },
          "metadata": {
            "tags": []
          },
          "execution_count": 23
        },
        {
          "output_type": "display_data",
          "data": {
            "image/png": "[encoded data removed]",
            "text/plain": [
              "<Figure size 432x288 with 1 Axes>"
            ]
          },
          "metadata": {
            "tags": [],
            "needs_background": "light"
          }
        }
      ]
    },
    {
      "cell_type": "code",
      "metadata": {
        "id": "dV9VJ3Fxq_QR"
      },
      "source": [
        "x,t,a,b,n, i, k = symbols('x t a b n i k')"
      ],
      "execution_count": 24,
      "outputs": []
    },
    {
      "cell_type": "code",
      "metadata": {
        "colab": {
          "base_uri": "https://localhost:8080/",
          "height": 80
        },
        "id": "Qru0zvy3q_QR",
        "outputId": "0baed775-02b4-4240-8237-a37c3928541b"
      },
      "source": [
        "Integral((x-x**2),(x,0,1))"
      ],
      "execution_count": 25,
      "outputs": [
        {
          "output_type": "execute_result",
          "data": {
            "image/png": "[encoded data removed]",
            "text/latex": "$\\displaystyle \\int\\limits_{0}^{1} \\left(- x^{2} + x\\right)\\, dx$",
            "text/plain": [
              "1              \n",
              "⌠              \n",
              "⎮ ⎛   2    ⎞   \n",
              "⎮ ⎝- x  + x⎠ dx\n",
              "⌡              \n",
              "0              "
            ]
          },
          "metadata": {
            "tags": []
          },
          "execution_count": 25
        }
      ]
    },
    {
      "cell_type": "code",
      "metadata": {
        "colab": {
          "base_uri": "https://localhost:8080/"
        },
        "id": "dkht-F8Dq_QR",
        "outputId": "14201a05-1237-4b54-abb9-075e38b960de"
      },
      "source": [
        "area_a=integrate(x-x**2,(x,0,1)) \n",
        "print(\"area_a = \",  area_a)"
      ],
      "execution_count": 26,
      "outputs": [
        {
          "output_type": "stream",
          "text": [
            "area_a =  1/6\n"
          ],
          "name": "stdout"
        }
      ]
    },
    {
      "cell_type": "markdown",
      "metadata": {
        "id": "8S65Ixhjq_QR"
      },
      "source": [
        "# B) ... pelo conjunto \n",
        "### { ( $x , y$ ) $\\in$ ${\\rm I\\!R^2} : y \\ge 0 \\wedge x^3 \\le y \\le x \\}$\n",
        "     "
      ]
    },
    {
      "cell_type": "code",
      "metadata": {
        "id": "O8mjoxo9q_QR",
        "outputId": "ab3b1df5-01d6-4c51-9afb-66f061249c07"
      },
      "source": [
        "eq2= Eq(x**3,x)\n",
        "eq2"
      ],
      "execution_count": null,
      "outputs": [
        {
          "output_type": "execute_result",
          "data": {
            "text/latex": "$\\displaystyle x^{3} = x$",
            "text/plain": [
              "Eq(x**3, x)"
            ]
          },
          "metadata": {
            "tags": []
          },
          "execution_count": 25
        }
      ]
    },
    {
      "cell_type": "code",
      "metadata": {
        "id": "gWAUjUwDq_QR",
        "outputId": "681710eb-5aae-442f-e917-5c7b61f21431"
      },
      "source": [
        "solve(eq2)"
      ],
      "execution_count": null,
      "outputs": [
        {
          "output_type": "execute_result",
          "data": {
            "text/plain": [
              "[-1, 0, 1]"
            ]
          },
          "metadata": {
            "tags": []
          },
          "execution_count": 26
        }
      ]
    },
    {
      "cell_type": "code",
      "metadata": {
        "id": "nTqIElgcq_QS",
        "outputId": "a3698c7a-a788-4ae8-8337-197b158c8929"
      },
      "source": [
        "x=np.linspace(-1.5,1.5,1000) \n",
        "plt.figure(figsize=[18,10])\n",
        "fig, ax = plt.subplots()\n",
        "ax.plot(x, x, x, x**3)\n",
        "plt.grid()\n",
        "plt.axhline(0, color='black')\n",
        "plt.axvline(0, color='black')\n",
        "plt.xlabel('X') \n",
        "plt.ylabel('$X^3$, X')\n",
        "plt.title('Equação')\n",
        "ax.text(0.15, 1.2, r\"$y=x$\", fontsize=20, color=\"blue\")\n",
        "ax.text(0.65, -0.7, r\"$y=x^3$\", fontsize=20, color=\"orange\");"
      ],
      "execution_count": null,
      "outputs": [
        {
          "output_type": "display_data",
          "data": {
            "text/plain": [
              "<Figure size 1296x720 with 0 Axes>"
            ]
          },
          "metadata": {
            "tags": []
          }
        },
        {
          "output_type": "display_data",
          "data": {
            "image/png": "[encoded data removed]",
            "text/plain": [
              "<Figure size 432x288 with 1 Axes>"
            ]
          },
          "metadata": {
            "tags": [],
            "needs_background": "light"
          }
        }
      ]
    },
    {
      "cell_type": "code",
      "metadata": {
        "id": "QnH9kQMOq_QS"
      },
      "source": [
        "x,t,a,b,n, i, k = symbols('x t a b n i k')"
      ],
      "execution_count": null,
      "outputs": []
    },
    {
      "cell_type": "code",
      "metadata": {
        "id": "eOdkzTscq_QS",
        "outputId": "c828da29-6645-4b42-b8d4-d601a721c137"
      },
      "source": [
        "Integral(x**3-x,(x,-1,0)) "
      ],
      "execution_count": null,
      "outputs": [
        {
          "output_type": "execute_result",
          "data": {
            "text/latex": "$\\displaystyle \\int\\limits_{-1}^{0} \\left(x^{3} - x\\right)\\, dx$",
            "text/plain": [
              "Integral(x**3 - x, (x, -1, 0))"
            ]
          },
          "metadata": {
            "tags": []
          },
          "execution_count": 38
        }
      ]
    },
    {
      "cell_type": "code",
      "metadata": {
        "id": "cta-nrICq_QT",
        "outputId": "584c8cc6-f83a-411a-8b7f-748f5820a43d"
      },
      "source": [
        "area_b1=integrate(x**3-x,(x,-1,0)) \n",
        "print(\"area_b1 = \",  area_b1)"
      ],
      "execution_count": null,
      "outputs": [
        {
          "output_type": "stream",
          "text": [
            "area_b1 =  1/4\n"
          ],
          "name": "stdout"
        }
      ]
    },
    {
      "cell_type": "code",
      "metadata": {
        "id": "mMmIhEODq_QT",
        "outputId": "fbbba673-821f-40d5-b885-2673d03cf43b"
      },
      "source": [
        "Integral(x-x**3,(x,0,1)) "
      ],
      "execution_count": null,
      "outputs": [
        {
          "output_type": "execute_result",
          "data": {
            "text/latex": "$\\displaystyle \\int\\limits_{0}^{1} \\left(- x^{3} + x\\right)\\, dx$",
            "text/plain": [
              "Integral(-x**3 + x, (x, 0, 1))"
            ]
          },
          "metadata": {
            "tags": []
          },
          "execution_count": 40
        }
      ]
    },
    {
      "cell_type": "code",
      "metadata": {
        "id": "xtZ7KXdtq_QT",
        "outputId": "4cd99027-5f5b-42f2-b1f7-2f65d9a2e513"
      },
      "source": [
        "area_b2=integrate(x-x**3,(x,0,1)) \n",
        "print(\"area_b2 = \",  area_b2)"
      ],
      "execution_count": null,
      "outputs": [
        {
          "output_type": "stream",
          "text": [
            "area_b2 =  1/4\n"
          ],
          "name": "stdout"
        }
      ]
    },
    {
      "cell_type": "code",
      "metadata": {
        "id": "RA5Crsbwq_QU",
        "outputId": "0adede7d-10a0-4171-9bd5-b7f1bdfe2c5d"
      },
      "source": [
        "area_b = area_b1 + area_b2\n",
        "area_b"
      ],
      "execution_count": null,
      "outputs": [
        {
          "output_type": "execute_result",
          "data": {
            "text/latex": "$\\displaystyle \\frac{1}{2}$",
            "text/plain": [
              "1/2"
            ]
          },
          "metadata": {
            "tags": []
          },
          "execution_count": 42
        }
      ]
    },
    {
      "cell_type": "markdown",
      "metadata": {
        "id": "xRSO974lq_QU"
      },
      "source": [
        "### ... Outra forma de resolver"
      ]
    },
    {
      "cell_type": "code",
      "metadata": {
        "id": "vGWlBevtq_QU",
        "outputId": "d41050f3-8a43-4f37-83f3-886820942ba0"
      },
      "source": [
        "abs(Integral(x**3-x,(x,-1,0))) + abs(Integral(x**3-x,(x,0,1)) )"
      ],
      "execution_count": null,
      "outputs": [
        {
          "output_type": "execute_result",
          "data": {
            "text/latex": "$\\displaystyle \\left|{\\int\\limits_{0}^{1} \\left(x^{3} - x\\right)\\, dx}\\right| + \\left|{\\int\\limits_{-1}^{0} \\left(x^{3} - x\\right)\\, dx}\\right|$",
            "text/plain": [
              "Abs(Integral(x**3 - x, (x, 0, 1))) + Abs(Integral(x**3 - x, (x, -1, 0)))"
            ]
          },
          "metadata": {
            "tags": []
          },
          "execution_count": 43
        }
      ]
    },
    {
      "cell_type": "code",
      "metadata": {
        "id": "nQwyWTOOq_QU",
        "outputId": "fc2d04a9-ac80-4968-a7ce-d6e48d2d6b74"
      },
      "source": [
        "abs(integrate(x**3-x,(x,-1,0))) + abs(integrate(x**3-x,(x,0,1) ))"
      ],
      "execution_count": null,
      "outputs": [
        {
          "output_type": "execute_result",
          "data": {
            "text/latex": "$\\displaystyle \\frac{1}{2}$",
            "text/plain": [
              "1/2"
            ]
          },
          "metadata": {
            "tags": []
          },
          "execution_count": 44
        }
      ]
    },
    {
      "cell_type": "markdown",
      "metadata": {
        "id": "V4OZS3Xjq_QV"
      },
      "source": [
        "### E ainda outra maneira possível de calcular a área\n"
      ]
    },
    {
      "cell_type": "code",
      "metadata": {
        "colab": {
          "base_uri": "https://localhost:8080/",
          "height": 80
        },
        "id": "HMW3v7Koq_QV",
        "outputId": "a1a0d92a-f5e0-4784-b20e-0b3daa0f1c74"
      },
      "source": [
        "2*Integral(x-x**3,(x,0,1)) "
      ],
      "execution_count": 27,
      "outputs": [
        {
          "output_type": "execute_result",
          "data": {
            "image/png": "[encoded data removed]",
            "text/latex": "$\\displaystyle 2 \\int\\limits_{0}^{1} \\left(- x^{3} + x\\right)\\, dx$",
            "text/plain": [
              "  1              \n",
              "  ⌠              \n",
              "  ⎮ ⎛   3    ⎞   \n",
              "2⋅⎮ ⎝- x  + x⎠ dx\n",
              "  ⌡              \n",
              "  0              "
            ]
          },
          "metadata": {
            "tags": []
          },
          "execution_count": 27
        }
      ]
    },
    {
      "cell_type": "code",
      "metadata": {
        "colab": {
          "base_uri": "https://localhost:8080/",
          "height": 51
        },
        "id": "DPti965Aq_QV",
        "outputId": "642b29ed-7a10-437e-f7f5-868a08bc0460"
      },
      "source": [
        "2*Integral(x-x**3,(x,0,1)).doit() "
      ],
      "execution_count": 28,
      "outputs": [
        {
          "output_type": "execute_result",
          "data": {
            "image/png": "[encoded data removed]",
            "text/latex": "$\\displaystyle \\frac{1}{2}$",
            "text/plain": [
              "1/2"
            ]
          },
          "metadata": {
            "tags": []
          },
          "execution_count": 28
        }
      ]
    },
    {
      "cell_type": "markdown",
      "metadata": {
        "id": "AXrMd60h145M"
      },
      "source": [
        "# Exercício 4\n",
        "### Aplicando a definição do integral definido de Riemann calcule :"
      ]
    },
    {
      "cell_type": "markdown",
      "metadata": {
        "id": "9GFENVhuq_QV"
      },
      "source": [
        "# $$\\int_a^b e^x ~dx $$"
      ]
    },
    {
      "cell_type": "code",
      "metadata": {
        "id": "5l2LrGIHq_QV",
        "outputId": "3479b427-aff0-40b0-fc36-8cfcbe0d3c4e"
      },
      "source": [
        "Integral(exp(x),(x,a,b)) "
      ],
      "execution_count": null,
      "outputs": [
        {
          "output_type": "execute_result",
          "data": {
            "text/latex": "$\\displaystyle \\int\\limits_{a}^{b} e^{x}\\, dx$",
            "text/plain": [
              "Integral(exp(x), (x, a, b))"
            ]
          },
          "metadata": {
            "tags": []
          },
          "execution_count": 55
        }
      ]
    },
    {
      "cell_type": "code",
      "metadata": {
        "id": "_xIfSuXpq_QW",
        "outputId": "13db067e-8116-4af0-bf13-017f4553fefa"
      },
      "source": [
        "Integral(exp(x),(x,a,b)).doit()"
      ],
      "execution_count": null,
      "outputs": [
        {
          "output_type": "execute_result",
          "data": {
            "text/latex": "$\\displaystyle - e^{a} + e^{b}$",
            "text/plain": [
              "-exp(a) + exp(b)"
            ]
          },
          "metadata": {
            "tags": []
          },
          "execution_count": 56
        }
      ]
    },
    {
      "cell_type": "markdown",
      "metadata": {
        "id": "G5UprFEHq_QW"
      },
      "source": [
        "### se fosse:"
      ]
    },
    {
      "cell_type": "code",
      "metadata": {
        "id": "fteVKzSgq_QW",
        "outputId": "e16ddce8-5193-443e-c671-07d1fe251563"
      },
      "source": [
        "Integral(exp(x),(x,1,2)).doit()"
      ],
      "execution_count": null,
      "outputs": [
        {
          "output_type": "execute_result",
          "data": {
            "text/latex": "$\\displaystyle - e + e^{2}$",
            "text/plain": [
              "-E + exp(2)"
            ]
          },
          "metadata": {
            "tags": []
          },
          "execution_count": 139
        }
      ]
    },
    {
      "cell_type": "markdown",
      "metadata": {
        "id": "row4BZPFq_QW"
      },
      "source": [
        "### Em Python podemos calcular o Integral definido de Riemann da seguinte forma"
      ]
    },
    {
      "cell_type": "code",
      "metadata": {
        "id": "OqAwpjPIq_QX",
        "outputId": "9a62c059-f44d-4123-dadb-6e79f37de558"
      },
      "source": [
        "a=int(input(\"introduza o valor de a:\"))"
      ],
      "execution_count": null,
      "outputs": [
        {
          "output_type": "stream",
          "text": [
            "entre com o valor de a:1\n"
          ],
          "name": "stdout"
        }
      ]
    },
    {
      "cell_type": "code",
      "metadata": {
        "id": "G0Mm7vhaq_QX",
        "outputId": "52389a3d-c519-4af0-8551-330445a41a5b"
      },
      "source": [
        "b=int(input(\"introduza o valor de b: \"))"
      ],
      "execution_count": null,
      "outputs": [
        {
          "output_type": "stream",
          "text": [
            "entre com o valor de b: 2\n"
          ],
          "name": "stdout"
        }
      ]
    },
    {
      "cell_type": "code",
      "metadata": {
        "id": "CY0NdOx4q_QX",
        "outputId": "be9ded12-37ba-4a0a-a017-338d17fbd5d7"
      },
      "source": [
        "n=int(input(\"introduza o número de iterações n: \"))"
      ],
      "execution_count": null,
      "outputs": [
        {
          "output_type": "stream",
          "text": [
            "entre com o número de iterações n: 100\n"
          ],
          "name": "stdout"
        }
      ]
    },
    {
      "cell_type": "code",
      "metadata": {
        "id": "pNZVa0iyq_QX",
        "outputId": "46fb4d29-ad85-4a1a-b3c6-d81932ff83bc"
      },
      "source": [
        "f = lambda x: np.exp(x)\n",
        "h = (b-a)/n  \n",
        "x = np.linspace(a,b,n)  \n",
        " \n",
        "S_esq = 0  \n",
        "S_dir = 0  \n",
        "S_med = 0  \n",
        " \n",
        "print(\"Soma de Riemmann de {} a {} com {} intervalos:\\n\".format(a, b, n))  \n",
        " \n",
        "for i in range(n-1):  \n",
        "    S_esq += f(x[i])*h  \n",
        "print(\"A esquerda: {:.5e}\".format(S_esq))  \n",
        " \n",
        "for i in range(n-1):  \n",
        "    S_dir += f(x[i+1])*h  \n",
        "print(\"A direita: {:.5e}\".format(S_dir))  \n",
        " \n",
        "for i in range(n-1):  \n",
        "    S_med += f(((x[i]) + (x[i+1]))/2)*h  \n",
        "print(\"Pelo ponto medio: {:.5e}\".format(S_med)) "
      ],
      "execution_count": null,
      "outputs": [
        {
          "output_type": "stream",
          "text": [
            "Soma de Riemman de 1 a 2 com 100 intervalos:\n",
            "\n",
            "A esquerda: 4.60075e+00\n",
            "A direita: 4.64746e+00\n",
            "Pelo ponto medio: 4.62405e+00\n"
          ],
          "name": "stdout"
        }
      ]
    },
    {
      "cell_type": "code",
      "metadata": {
        "id": "oc_76330q_QY"
      },
      "source": [
        "x,y,a,b,n, i, k = symbols('x y a b n i k')"
      ],
      "execution_count": null,
      "outputs": []
    },
    {
      "cell_type": "code",
      "metadata": {
        "id": "WgYkWUneq_QY"
      },
      "source": [
        "import matplotlib.patches as patches\n",
        "import matplotlib.animation as animation\n",
        "\n",
        "# ignore warnings\n",
        "import warnings\n",
        "warnings.filterwarnings(\"ignore\")\n",
        "\n",
        "# set a random seed\n",
        "np.random.seed(42)"
      ],
      "execution_count": 31,
      "outputs": []
    },
    {
      "cell_type": "code",
      "metadata": {
        "id": "Gm5L1YJBq_QY"
      },
      "source": [
        "def calculate_integral(f, a, b, n, tipo):\n",
        "    '''Calculates the integral based on the composite trapezoidal rule\n",
        "    relying on the Riemann Sums.\n",
        "    \n",
        "    :param function f: the integrand function\n",
        "    :param int a: lower bound of the integral\n",
        "    :param int b: upper bound of theintergal\n",
        "    :param int n: number of trapezoids of equal width\n",
        "    :return float: the integral of the function f between a and b\n",
        "    '''\n",
        "    if (tipo=='e'):\n",
        "        w = (b - a)/n\n",
        "        result = 0.5*f(a) + sum([f(a + i*w) for i in range(1, n)]) + 0.5*f(b)\n",
        "        result *= w\n",
        "    elif (tipo=='c'):\n",
        "        w = (b - a)/n\n",
        "        result = 0.5*f(a) + sum([f(a + (i+(i+1))*w/2) for i in range(1, n)]) + 0.5*f(b)\n",
        "        result *= w\n",
        "    else:\n",
        "        w = (b - a)/n\n",
        "        result = 0.5*f(a) + sum([f(a + (i+1)*w) for i in range(1, n)]) + 0.5*f(b)\n",
        "        result *= w\n",
        "    return result"
      ],
      "execution_count": 32,
      "outputs": []
    },
    {
      "cell_type": "code",
      "metadata": {
        "colab": {
          "base_uri": "https://localhost:8080/"
        },
        "id": "DxXCwFxkq_QZ",
        "outputId": "856319a7-1cf5-4111-835d-722bf994f5a8"
      },
      "source": [
        "a=int(input(\"introduza o valor de a : \"))"
      ],
      "execution_count": 33,
      "outputs": [
        {
          "output_type": "stream",
          "text": [
            "introduza o valor de a:0\n"
          ],
          "name": "stdout"
        }
      ]
    },
    {
      "cell_type": "code",
      "metadata": {
        "colab": {
          "base_uri": "https://localhost:8080/"
        },
        "id": "12KwmpxKq_QZ",
        "outputId": "309bd543-b70e-497f-b2f7-d45c76209c49"
      },
      "source": [
        "b=int(input(\"introduza o valor de b : \"))"
      ],
      "execution_count": 34,
      "outputs": [
        {
          "output_type": "stream",
          "text": [
            "introduza o valor de b:1\n"
          ],
          "name": "stdout"
        }
      ]
    },
    {
      "cell_type": "code",
      "metadata": {
        "colab": {
          "base_uri": "https://localhost:8080/"
        },
        "id": "lTQAvUyLq_QZ",
        "outputId": "0fed8dd6-50d6-46b9-dcb0-d23e68466cfa"
      },
      "source": [
        "t=int(input(\"introduza o número de trapezoides pretendido : \"))"
      ],
      "execution_count": 35,
      "outputs": [
        {
          "output_type": "stream",
          "text": [
            "introduza o número de trapezoides pretendido:50\n"
          ],
          "name": "stdout"
        }
      ]
    },
    {
      "cell_type": "code",
      "metadata": {
        "colab": {
          "base_uri": "https://localhost:8080/"
        },
        "id": "DIEqESfgq_Qa",
        "outputId": "e0d28499-5397-4e30-d29a-609d104347cb"
      },
      "source": [
        "tipo=input(\"Quer fazer a Soma : esquerda, direita ou média ( e , d , c ) : \")"
      ],
      "execution_count": 36,
      "outputs": [
        {
          "output_type": "stream",
          "text": [
            "Quer fazer a Soma : esquerda, direita ou média ( e , d , c ) : e\n"
          ],
          "name": "stdout"
        }
      ]
    },
    {
      "cell_type": "code",
      "metadata": {
        "id": "U-Jj9MdQq_Qa"
      },
      "source": [
        "f = lambda x: np.exp(x)  # Introduza a função para integrar\n",
        "#a, b = 0, 1  # intervalos da integração\n",
        "N = 400  # número de pontos a gerar\n",
        "\n",
        "X = np.linspace(a, b, N + 1)  # gerar mais pontos no eixo do X\n",
        "Y = f(X)  # gerar mais valores da função"
      ],
      "execution_count": 37,
      "outputs": []
    },
    {
      "cell_type": "code",
      "metadata": {
        "colab": {
          "base_uri": "https://localhost:8080/",
          "height": 948
        },
        "id": "d5UMAsNlq_Qa",
        "outputId": "1b9e6f55-a278-4e1e-a514-dd1a7b392caf"
      },
      "source": [
        "fig = plt.figure(figsize=(21, 14))  # cria uma nova figura\n",
        "\n",
        "# animation function \n",
        "def animate(i):\n",
        "    plt.cla()  # clear all previous axes objects\n",
        "    ax = plt.axes(xlim=(a, b), ylim = (0, 10))  # cria novo objecto de eixos\n",
        "    \n",
        "    ax.set_xticks(np.linspace(a, b, 11))  # formato do eixo X\n",
        "    ax.set_xlabel('EIXO X', fontsize=30)\n",
        "    \n",
        "    ax.set_yticks(np.linspace(0, 10, 11))  # formato do eixo Y\n",
        "    ax.set_ylabel('EIXO Y', fontsize=30)\n",
        "    \n",
        "    ax.tick_params(labelsize=22)  # faz os ticks maiores\n",
        "    \n",
        "    num_trapezoids = (t) # calcula o número de trapezoids\n",
        "    \n",
        "    x = np.linspace(a, b, num_trapezoids + 1)  # cria os intervalos do eixo X\n",
        "    y = f(x)  # cria os valores da função\n",
        "    \n",
        "    y_int = calculate_integral(f, a, b, num_trapezoids, tipo)  # calcula o integral utilizando a função\n",
        "    err = np.abs(np.pi - y_int)  # calcula o erro absoluto\n",
        "    \n",
        "    # apanha os end-points da esquerda\n",
        "    x_left = x[:-1]\n",
        "    y_left = y[:-1]\n",
        "    \n",
        "    ax.plot(x_left,y_left, c='#2CBDFE', marker='.', markersize=10)  # desenha os pontos da esquerda\n",
        "    ax.plot(X, Y, c='#2CBDFE')  # desenha a linha\n",
        "    if (tipo=='e'):\n",
        "        bar = ax.bar(x, y, width=1.0*(b-a)/num_trapezoids, alpha=0.3, align='edge', color='#47DBCD', edgecolor='#2CBDFE', lw=2)\n",
        "        ax.set_title('Riemann Soma Esquerda para $\\int_a^b e^x ~dx $. \\n' + \n",
        "                 '{0} trapezoids: Value: {1:.9f} Approx. err. {2:.9f}'.format(num_trapezoids, y_int, err), fontsize=30)\n",
        "    elif (tipo=='c'):\n",
        "        bar = ax.bar(x, y, width=1.0*(b-a)/num_trapezoids, alpha=0.3, align='center', color='#47DBCD', edgecolor='#2CBDFE', lw=2)\n",
        "        ax.set_title('Riemann Soma Média para $\\int_a^b e^x ~dx $. \\n' + \n",
        "                 '{0} trapezoids: Value: {1:.9f} Approx. err. {2:.9f}'.format(num_trapezoids, y_int, err), fontsize=30)\n",
        "    else:\n",
        "        bar = ax.bar(x, y, width=-1.0*(b-a)/num_trapezoids, alpha=0.3, align='edge', color='#47DBCD', edgecolor='#2CBDFE', lw=2)\n",
        "        ax.set_title('Riemann Soma Direita para $\\int_a^b e^x ~dx $. \\n' + \n",
        "                 '{0} trapezoids: Value: {1:.9f} Approx. err. {2:.9f}'.format(num_trapezoids, y_int, err), fontsize=30)\n",
        "    \n",
        "    return bar\n",
        "\n",
        "# chama o animator\t \n",
        "anim = animation.FuncAnimation(fig, animate, frames=40, interval=120, blit=True)\n",
        "anim.save('riemann_sum.gif',writer=\"pillow\")\n"
      ],
      "execution_count": 38,
      "outputs": [
        {
          "output_type": "display_data",
          "data": {
            "image/png": "[encoded data removed]",
            "text/plain": [
              "<Figure size 1512x1008 with 1 Axes>"
            ]
          },
          "metadata": {
            "tags": [],
            "needs_background": "light"
          }
        }
      ]
    }
  ]
}